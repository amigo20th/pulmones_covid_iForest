{
  "nbformat": 4,
  "nbformat_minor": 0,
  "metadata": {
    "colab": {
      "name": "propuesta_filtros_iForest_COVID_19.ipynb",
      "provenance": []
    },
    "kernelspec": {
      "name": "python3",
      "display_name": "Python 3"
    },
    "language_info": {
      "name": "python"
    }
  },
  "cells": [
    {
      "cell_type": "code",
      "metadata": {
        "id": "GpqgrnB6Fic_"
      },
      "source": [
        "from skimage import io\n",
        "import pandas as pd\n",
        "import matplotlib.pyplot as plt\n",
        "import numpy as np\n",
        "from collections import Counter\n",
        "from sklearn.ensemble import IsolationForest\n",
        "import cv2\n",
        "import os"
      ],
      "execution_count": 35,
      "outputs": []
    },
    {
      "cell_type": "code",
      "metadata": {
        "id": "EH9c3H0GFtvd"
      },
      "source": [
        "#configuracion necesaria de pyplot para ver las imagenes en escala de grises\n",
        "plt.rcParams['image.cmap'] = 'gray'\n",
        "\n",
        "# comando de Jupyter para que las imagenes se muestren automaticamente \n",
        "%matplotlib inline"
      ],
      "execution_count": 36,
      "outputs": []
    },
    {
      "cell_type": "code",
      "metadata": {
        "id": "WCzcsxTXJ-7D"
      },
      "source": [
        "def pixRelevant(raw, mask):\n",
        "    \"\"\"\n",
        "    Función que devuelve las áreas relevantes para el análisis mediante aplicar una máscara\n",
        "    \"\"\"\n",
        "    #Convertimos todos los pixelex de la máscara en 0 o 1\n",
        "    for i in range(mask.shape[0]):\n",
        "        for j in range(mask.shape[1]):\n",
        "            if mask[i][j] != 0:\n",
        "              mask[i][j] = 1\n",
        "    relevant_img = raw * mask\n",
        "    return relevant_img"
      ],
      "execution_count": 37,
      "outputs": []
    },
    {
      "cell_type": "code",
      "metadata": {
        "id": "MSXPqZjgLiEB"
      },
      "source": [
        "def numLabels(img_matrix):\n",
        "    \"\"\"\n",
        "    Función que devuelve el número de etiquetas que usó el experto para \n",
        "    catalogar las diferentes zonas en el pulmón, se cuenta la zona \n",
        "    negra como una etiqueta.\n",
        "    \"\"\"\n",
        "    labels_exp = []\n",
        "    for i in range(img_matrix.shape[0]):\n",
        "        for j in range(img_matrix.shape[1]):\n",
        "            if img_matrix[i][j]  not in labels_exp:\n",
        "                labels_exp.append(img_matrix[i][j])\n",
        "    return len(labels_exp)"
      ],
      "execution_count": 38,
      "outputs": []
    },
    {
      "cell_type": "code",
      "metadata": {
        "id": "tJAqhaEeLroX"
      },
      "source": [
        "def createAttrImg(img, \n",
        "                  kernel_mean = 10, \n",
        "                  kernel_gauss = 0, \n",
        "                  kernel_median = 9, \n",
        "                  canny_min = 100, \n",
        "                  canny_max = 500, \n",
        "                  d_bilateral = 10,\n",
        "                  sigmaColor_bilateral = 5, \n",
        "                  sigmaSpace_bilateral = 5):\n",
        "\n",
        "    \"\"\"\n",
        "    Función que devuelve un objeto de tipo DataFrame, este contiene como filas a cada uno de los pixeles de la imagen.\n",
        "    cada atributo representa un filtro aplicado en la imagen.\n",
        "    \"\"\"\n",
        "    #Sin filtro\n",
        "    img_inline = np.reshape(img, (1, img.shape[0]*img.shape[1])).squeeze()\n",
        "    df_img_res = pd.DataFrame(img_inline, columns=['Raw'])\n",
        "\n",
        "\n",
        "    #Filtro Medio\n",
        "    image_test = cv2.blur(img, (kernel_mean, kernel_mean))\n",
        "    df_img_res['Mean'] = np.reshape(image_test, (1, img.shape[0]*img.shape[1])).squeeze()\n",
        "\n",
        "    #Filtro Gaussiano\n",
        "    image_test = cv2.GaussianBlur(img, (kernel_gauss, kernel_gauss), cv2.BORDER_DEFAULT)\n",
        "    df_img_res['Gauss'] = np.reshape(image_test, (1, img.shape[0]*img.shape[1])).squeeze()\n",
        "\n",
        "    #Filtro Mediano\n",
        "    image_test = cv2.medianBlur(img, kernel_median)\n",
        "    df_img_res['Median'] = np.reshape(image_test, (1, img.shape[0]*img.shape[1])).squeeze()\n",
        "\n",
        "    #Filtro Conny\n",
        "    image_test = cv2.Canny(img, canny_min, canny_max)\n",
        "    df_img_res['Conny'] = np.reshape(image_test, (1, img.shape[0]*img.shape[1])).squeeze()\n",
        "\n",
        "    #Filtro Horizontal\n",
        "    kernel = np.array([[-1.0, -1.0, -1.0], \n",
        "                   [2.0, 2.0, 2.0],\n",
        "                   [-1.0, -1.0, -1.0]])\n",
        "    image_test = cv2.filter2D(img, -1, kernel)\n",
        "    df_img_res['Horizontal'] = np.reshape(image_test, (1, img.shape[0]*img.shape[1])).squeeze()\n",
        "\n",
        "    #Filtro Vertical\n",
        "    kernel = np.array([[-1.0, 2.0, -1.0], \n",
        "                   [-1.0, 2.0, -1.0],\n",
        "                   [-1.0, 2.0, -1.0]])\n",
        "    image_test = cv2.filter2D(img, -1, kernel)\n",
        "    df_img_res['Vertical'] = np.reshape(image_test, (1, img.shape[0]*img.shape[1])).squeeze()\n",
        "\n",
        "    #Filtro Laplaciano\n",
        "    kernel = np.array([[0.0, -1.0, 0.0], \n",
        "                   [-1.0, 4.0, -1.0],\n",
        "                   [0.0, -1.0, 0.0]])\n",
        "    image_test = cv2.filter2D(img,-1, kernel)\n",
        "    df_img_res['Laplacian'] = np.reshape(image_test, (1, img.shape[0]*img.shape[1])).squeeze()\n",
        "\n",
        "    #Filtro Bilateral\n",
        "    image_test = cv2.bilateralFilter(img, d_bilateral, sigmaColor_bilateral, sigmaSpace_bilateral, cv2.BORDER_DEFAULT)\n",
        "    df_img_res['Bilateral'] = np.reshape(image_test, (1, img.shape[0]*img.shape[1])).squeeze()\n",
        "    \n",
        "    return df_img_res"
      ],
      "execution_count": 39,
      "outputs": []
    },
    {
      "cell_type": "code",
      "metadata": {
        "id": "z5LRLkjz8nSl"
      },
      "source": [
        "def labels_iForest(attr, shape_img_output, grade):\n",
        "    \"\"\"\n",
        "    La función aplicaráa Isolation Forest a un conjunto de datos de atributos de una imagen, \n",
        "    posteriormente etiquetará cada vector dependiendo del grado que sea ingresado.\n",
        "    Entrada:\n",
        "        attr: Conjunto de datos con atributos de una imagen.\n",
        "        shape_img_output: Especifica las dimensiones de salida de la imagen.\n",
        "        grade: núúmero de etiquetas que se aplicarán al conjunto.\n",
        "    Salida:\n",
        "        labels: Etiquetas para cada vector.\n",
        "    \"\"\"\n",
        "    # Se selecciona la cantidad de árboles y máximo tamaño de los árboles,\n",
        "    # según la publicación original.\n",
        "    clf = IsolationForest(n_estimators=100, max_samples=256)\n",
        "    clf.fit(attr)\n",
        "    outlier_score_img = np.floor(-grade * clf.score_samples(attr))\n",
        "    return np.reshape(outlier_score_img, shape_img_output)"
      ],
      "execution_count": 40,
      "outputs": []
    },
    {
      "cell_type": "markdown",
      "metadata": {
        "id": "RhX14bFJdbdq"
      },
      "source": [
        "# Obtención de los atributos para cada imagen."
      ]
    },
    {
      "cell_type": "code",
      "metadata": {
        "id": "6FTP6jRYavwS"
      },
      "source": [
        "for i in range(1, 11):\n",
        "    train_tmp  = io.imread(\"/content/drive/MyDrive/comia2021/Train/tr_im{}.png\".format(i))\n",
        "    lung_mask_tmp = io.imread(\"/content/drive/MyDrive/comia2021/LungMask/tr_lungmask{}.png\".format(i))\n",
        "    train_lung_mask_tmp = pixRelevant(train_tmp, lung_mask_tmp)\n",
        "    df_tmp = createAttrImg(train_lung_mask_tmp)\n",
        "    df_tmp.to_csv(\"/content/drive/MyDrive/comia2021/Attr/attr_img{}.csv\".format(i), sep='\\t', index=None)\n",
        "    "
      ],
      "execution_count": 9,
      "outputs": []
    },
    {
      "cell_type": "markdown",
      "metadata": {
        "id": "WBz2B_rHgGFP"
      },
      "source": [
        "#Segmentación por medio de Isolation Forest\n",
        "\n",
        "Seleccionamos la lista de conjuntos de datos que se crearon anteriormente."
      ]
    },
    {
      "cell_type": "markdown",
      "metadata": {
        "id": "K32z2AyFRUkn"
      },
      "source": [
        "Extraemos la lista de imágenes que contienen las máscaras creadas por el experto."
      ]
    },
    {
      "cell_type": "code",
      "metadata": {
        "colab": {
          "base_uri": "https://localhost:8080/"
        },
        "id": "UpcDeXQAPlkU",
        "outputId": "5d457ede-465c-45d1-f10c-cdb8ed12a572"
      },
      "source": [
        "for i in range(1, 11):\n",
        "    mask_exp_tmp = io.imread(\"/content/drive/MyDrive/comia2021/Mask/tr_mask{}.png\".format(i))\n",
        "    labels_mask_tmp = numLabels(mask_exp_tmp)\n",
        "    df_tmp = pd.read_csv(\"/content/drive/MyDrive/comia2021/Attr/attr_img{}.csv\".format(i), sep='\\t')\n",
        "    labels_tmp = labels_iForest(df_tmp, (512, 512), labels_mask_tmp)\n",
        "    df_out = pd.DataFrame(np.reshape(labels_tmp, (262144, 1)), columns=(['Label']), index=None)\n",
        "    df_out.to_csv(\"/content/drive/MyDrive/comia2021/Result_Data/res_data{}.csv\".format(i), sep='\\t')\n",
        "    io.imsave(\"/content/drive/MyDrive/comia2021/Result_Image/res_img{}.png\".format(i), labels_tmp)"
      ],
      "execution_count": 10,
      "outputs": [
        {
          "output_type": "stream",
          "text": [
            "WARNING:root:Lossy conversion from float64 to uint8. Range [0.0, 2.0]. Convert image to uint8 prior to saving to suppress this warning.\n",
            "WARNING:root:Lossy conversion from float64 to uint8. Range [1.0, 3.0]. Convert image to uint8 prior to saving to suppress this warning.\n",
            "WARNING:root:Lossy conversion from float64 to uint8. Range [0, 1]. Convert image to uint8 prior to saving to suppress this warning.\n",
            "WARNING:root:Lossy conversion from float64 to uint8. Range [0.0, 2.0]. Convert image to uint8 prior to saving to suppress this warning.\n",
            "WARNING:root:Lossy conversion from float64 to uint8. Range [0, 1]. Convert image to uint8 prior to saving to suppress this warning.\n",
            "WARNING:root:Lossy conversion from float64 to uint8. Range [0, 1]. Convert image to uint8 prior to saving to suppress this warning.\n",
            "WARNING:root:Lossy conversion from float64 to uint8. Range [1.0, 3.0]. Convert image to uint8 prior to saving to suppress this warning.\n",
            "WARNING:root:Lossy conversion from float64 to uint8. Range [0.0, 2.0]. Convert image to uint8 prior to saving to suppress this warning.\n",
            "WARNING:root:Lossy conversion from float64 to uint8. Range [1.0, 3.0]. Convert image to uint8 prior to saving to suppress this warning.\n",
            "WARNING:root:Lossy conversion from float64 to uint8. Range [0.0, 2.0]. Convert image to uint8 prior to saving to suppress this warning.\n"
          ],
          "name": "stderr"
        }
      ]
    },
    {
      "cell_type": "markdown",
      "metadata": {
        "id": "zZqShDpocYYG"
      },
      "source": [
        "#Cálculo del error entre imágenes"
      ]
    },
    {
      "cell_type": "code",
      "metadata": {
        "colab": {
          "base_uri": "https://localhost:8080/"
        },
        "id": "ahhb-hjRcA_v",
        "outputId": "5afb5ec5-1bb4-4ea1-a1b1-7ee1853060ae"
      },
      "source": [
        "for i in range(1, 11):\n",
        "    expert_img = io.imread(\"/content/drive/MyDrive/comia2021/Mask/tr_mask{}.png\".format(i))\n",
        "    result_img =io.imread(\"/content/drive/MyDrive/comia2021/Result_Image/res_img{}.png\".format(i))\n",
        "    mean_row = 0\n",
        "    mean_col = 0\n",
        "    for row in range(expert_img.shape[0]):\n",
        "        for col in range(expert_img.shape[1]):\n",
        "            mean_row += np.abs(expert_img[row][col]-result_img[row][col])\n",
        "        mean_col += mean_row / expert_img.shape[0]\n",
        "        mean_row = 0\n",
        "    mean_col /= expert_img.shape[1]\n",
        "    print(\"Error entre tr_mask{}.png y res_img{}.png es de {}.\".format(i, i, mean_col))\n",
        "\n"
      ],
      "execution_count": 55,
      "outputs": [
        {
          "output_type": "stream",
          "text": [
            "/usr/local/lib/python3.7/dist-packages/ipykernel_launcher.py:8: RuntimeWarning: overflow encountered in ubyte_scalars\n",
            "  \n"
          ],
          "name": "stderr"
        },
        {
          "output_type": "stream",
          "text": [
            "Error entre tr_mask1.png y res_img1.png es de 21.40704345703125.\n",
            "Error entre tr_mask2.png y res_img2.png es de 37.92649841308594.\n",
            "Error entre tr_mask3.png y res_img3.png es de 0.11958694458007812.\n",
            "Error entre tr_mask4.png y res_img4.png es de 17.673057556152344.\n",
            "Error entre tr_mask5.png y res_img5.png es de 2.583099365234375.\n",
            "Error entre tr_mask6.png y res_img6.png es de 1.6251335144042969.\n",
            "Error entre tr_mask7.png y res_img7.png es de 15.4342041015625.\n",
            "Error entre tr_mask8.png y res_img8.png es de 33.75940704345703.\n",
            "Error entre tr_mask9.png y res_img9.png es de 40.186824798583984.\n",
            "Error entre tr_mask10.png y res_img10.png es de 12.627769470214844.\n"
          ],
          "name": "stdout"
        }
      ]
    },
    {
      "cell_type": "code",
      "metadata": {
        "id": "EbuRzxqO1NxM"
      },
      "source": [
        ""
      ],
      "execution_count": null,
      "outputs": []
    }
  ]
}